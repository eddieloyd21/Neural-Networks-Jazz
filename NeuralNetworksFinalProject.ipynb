{
 "cells": [
  {
   "cell_type": "markdown",
   "id": "2d8ae3b6",
   "metadata": {},
   "source": [
    "# Final Project - Shawn Feng, Will Novak, Eddie Loyd"
   ]
  },
  {
   "cell_type": "code",
   "execution_count": 1,
   "id": "a909fea3",
   "metadata": {},
   "outputs": [],
   "source": [
    "import collections\n",
    "import datetime\n",
    "import glob\n",
    "import numpy as np\n",
    "import pathlib\n",
    "import pandas as pd\n",
    "import pretty_midi\n",
    "import seaborn as sns\n",
    "import tensorflow as tf\n",
    "from music21 import *\n",
    "import random\n",
    "\n",
    "from IPython import display\n",
    "from matplotlib import pyplot as plt\n",
    "from typing import Optional"
   ]
  },
  {
   "cell_type": "code",
   "execution_count": 29,
   "id": "add20b83",
   "metadata": {},
   "outputs": [
    {
     "data": {
      "text/plain": [
       "'maestro-v3.0.0\\\\2008\\\\MIDI-Unprocessed_09_R1_2008_01-05_ORIG_MID--AUDIO_09_R1_2008_wav--3.midi'"
      ]
     },
     "execution_count": 29,
     "metadata": {},
     "output_type": "execute_result"
    }
   ],
   "source": [
    "#filenames = glob.glob('midi_data/*/**/*.mid', recursive=True)\n",
    "#filenames = glob.glob('maestro-v3.0.0/**/*.mid*', recursive=True)\n",
    "#sample_file = filenames[1]  # Change this to the desired MIDI file\n",
    "#sample_file = \"midi_data\\progressions\\I-VI-ii-V-maj\\A-5-I-VI-ii-V-maj-46.mid\"\n",
    "#sample_file = \"midi_data\\scales\\ionian\\G-4ionian-4.mid\"\n",
    "sample_file = \"maestro-v3.0.0\\\\2008\\MIDI-Unprocessed_09_R1_2008_01-05_ORIG_MID--AUDIO_09_R1_2008_wav--3.midi\"\n",
    "#sample_file = \"G_major.mid\"\n",
    "sample_file"
   ]
  },
  {
   "cell_type": "code",
   "execution_count": 30,
   "id": "8c25b164",
   "metadata": {},
   "outputs": [
    {
     "name": "stdout",
     "output_type": "stream",
     "text": [
      "<pretty_midi.pretty_midi.PrettyMIDI object at 0x000002118DCF1190>\n"
     ]
    }
   ],
   "source": [
    "pm = pretty_midi.PrettyMIDI(sample_file)\n",
    "print(pm)"
   ]
  },
  {
   "cell_type": "code",
   "execution_count": 46,
   "id": "188d644c",
   "metadata": {
    "scrolled": true
   },
   "outputs": [],
   "source": [
    "#b = converter.parse(\"midi_data\\scales\\ionian\\G-4ionian-0.mid\")\n",
    "b = converter.parse(\"G_major.mid\")\n",
    "sp = midi.realtime.StreamPlayer(b)\n",
    "#sp.play()"
   ]
  },
  {
   "cell_type": "code",
   "execution_count": 47,
   "id": "a7a1396c",
   "metadata": {},
   "outputs": [],
   "source": [
    "#sp.stop()"
   ]
  },
  {
   "cell_type": "code",
   "execution_count": 48,
   "id": "c23662b6",
   "metadata": {},
   "outputs": [],
   "source": [
    "#b = converter.parse(\"maestro-v3.0.0\\\\2008\\MIDI-Unprocessed_09_R1_2008_01-05_ORIG_MID--AUDIO_09_R1_2008_wav--3.midi\")\n",
    "#sp = midi.realtime.StreamPlayer(b)\n",
    "#sp.play()"
   ]
  },
  {
   "cell_type": "code",
   "execution_count": null,
   "id": "1d26537f",
   "metadata": {},
   "outputs": [],
   "source": []
  },
  {
   "cell_type": "code",
   "execution_count": 31,
   "id": "8f83893f",
   "metadata": {},
   "outputs": [],
   "source": [
    "def midi_to_notes(midi_file: str) -> pd.DataFrame:\n",
    "    pm = pretty_midi.PrettyMIDI(midi_file)\n",
    "    instrument = pm.instruments[0]\n",
    "    notes = collections.defaultdict(list)\n",
    "\n",
    "    # Sort the notes by start time\n",
    "    sorted_notes = sorted(instrument.notes, key=lambda note: note.start)\n",
    "    prev_start = sorted_notes[0].start\n",
    "\n",
    "    for note in sorted_notes:\n",
    "        start = note.start\n",
    "        end = note.end\n",
    "        notes['pitch'].append(note.pitch)\n",
    "        notes['start'].append(start)\n",
    "        notes['end'].append(end)\n",
    "        notes['step'].append(start - prev_start)\n",
    "        notes['duration'].append(end - start)\n",
    "        prev_start = start\n",
    "\n",
    "    return pd.DataFrame({name: np.array(value) for name, value in notes.items()})"
   ]
  },
  {
   "cell_type": "code",
   "execution_count": 32,
   "id": "135b8e49",
   "metadata": {},
   "outputs": [
    {
     "data": {
      "text/html": [
       "<div>\n",
       "<style scoped>\n",
       "    .dataframe tbody tr th:only-of-type {\n",
       "        vertical-align: middle;\n",
       "    }\n",
       "\n",
       "    .dataframe tbody tr th {\n",
       "        vertical-align: top;\n",
       "    }\n",
       "\n",
       "    .dataframe thead th {\n",
       "        text-align: right;\n",
       "    }\n",
       "</style>\n",
       "<table border=\"1\" class=\"dataframe\">\n",
       "  <thead>\n",
       "    <tr style=\"text-align: right;\">\n",
       "      <th></th>\n",
       "      <th>pitch</th>\n",
       "      <th>start</th>\n",
       "      <th>end</th>\n",
       "      <th>step</th>\n",
       "      <th>duration</th>\n",
       "    </tr>\n",
       "  </thead>\n",
       "  <tbody>\n",
       "    <tr>\n",
       "      <th>0</th>\n",
       "      <td>63</td>\n",
       "      <td>1.026042</td>\n",
       "      <td>1.179688</td>\n",
       "      <td>0.000000</td>\n",
       "      <td>0.153646</td>\n",
       "    </tr>\n",
       "    <tr>\n",
       "      <th>1</th>\n",
       "      <td>75</td>\n",
       "      <td>1.046875</td>\n",
       "      <td>1.227865</td>\n",
       "      <td>0.020833</td>\n",
       "      <td>0.180990</td>\n",
       "    </tr>\n",
       "    <tr>\n",
       "      <th>2</th>\n",
       "      <td>75</td>\n",
       "      <td>1.545573</td>\n",
       "      <td>1.721354</td>\n",
       "      <td>0.498698</td>\n",
       "      <td>0.175781</td>\n",
       "    </tr>\n",
       "    <tr>\n",
       "      <th>3</th>\n",
       "      <td>63</td>\n",
       "      <td>1.582031</td>\n",
       "      <td>1.670573</td>\n",
       "      <td>0.036458</td>\n",
       "      <td>0.088542</td>\n",
       "    </tr>\n",
       "    <tr>\n",
       "      <th>4</th>\n",
       "      <td>75</td>\n",
       "      <td>1.960938</td>\n",
       "      <td>2.645833</td>\n",
       "      <td>0.378906</td>\n",
       "      <td>0.684896</td>\n",
       "    </tr>\n",
       "    <tr>\n",
       "      <th>...</th>\n",
       "      <td>...</td>\n",
       "      <td>...</td>\n",
       "      <td>...</td>\n",
       "      <td>...</td>\n",
       "      <td>...</td>\n",
       "    </tr>\n",
       "    <tr>\n",
       "      <th>4244</th>\n",
       "      <td>87</td>\n",
       "      <td>271.924479</td>\n",
       "      <td>272.337240</td>\n",
       "      <td>0.011719</td>\n",
       "      <td>0.412760</td>\n",
       "    </tr>\n",
       "    <tr>\n",
       "      <th>4245</th>\n",
       "      <td>68</td>\n",
       "      <td>271.930990</td>\n",
       "      <td>273.162760</td>\n",
       "      <td>0.006510</td>\n",
       "      <td>1.231771</td>\n",
       "    </tr>\n",
       "    <tr>\n",
       "      <th>4246</th>\n",
       "      <td>80</td>\n",
       "      <td>271.938802</td>\n",
       "      <td>272.406250</td>\n",
       "      <td>0.007812</td>\n",
       "      <td>0.467448</td>\n",
       "    </tr>\n",
       "    <tr>\n",
       "      <th>4247</th>\n",
       "      <td>71</td>\n",
       "      <td>271.953125</td>\n",
       "      <td>273.113281</td>\n",
       "      <td>0.014323</td>\n",
       "      <td>1.160156</td>\n",
       "    </tr>\n",
       "    <tr>\n",
       "      <th>4248</th>\n",
       "      <td>63</td>\n",
       "      <td>271.955729</td>\n",
       "      <td>272.876302</td>\n",
       "      <td>0.002604</td>\n",
       "      <td>0.920573</td>\n",
       "    </tr>\n",
       "  </tbody>\n",
       "</table>\n",
       "<p>4249 rows × 5 columns</p>\n",
       "</div>"
      ],
      "text/plain": [
       "      pitch       start         end      step  duration\n",
       "0        63    1.026042    1.179688  0.000000  0.153646\n",
       "1        75    1.046875    1.227865  0.020833  0.180990\n",
       "2        75    1.545573    1.721354  0.498698  0.175781\n",
       "3        63    1.582031    1.670573  0.036458  0.088542\n",
       "4        75    1.960938    2.645833  0.378906  0.684896\n",
       "...     ...         ...         ...       ...       ...\n",
       "4244     87  271.924479  272.337240  0.011719  0.412760\n",
       "4245     68  271.930990  273.162760  0.006510  1.231771\n",
       "4246     80  271.938802  272.406250  0.007812  0.467448\n",
       "4247     71  271.953125  273.113281  0.014323  1.160156\n",
       "4248     63  271.955729  272.876302  0.002604  0.920573\n",
       "\n",
       "[4249 rows x 5 columns]"
      ]
     },
     "execution_count": 32,
     "metadata": {},
     "output_type": "execute_result"
    }
   ],
   "source": [
    "raw_notes = midi_to_notes(sample_file)\n",
    "raw_notes.head()\n",
    "raw_notes"
   ]
  },
  {
   "cell_type": "code",
   "execution_count": 6,
   "id": "dadea896",
   "metadata": {},
   "outputs": [
    {
     "data": {
      "text/plain": [
       "array(['G3', 'A3', 'B3', 'C4', 'D4', 'E4', 'F#4', 'G4', 'A4', 'B4'],\n",
       "      dtype='<U3')"
      ]
     },
     "execution_count": 6,
     "metadata": {},
     "output_type": "execute_result"
    }
   ],
   "source": [
    "get_note_names = np.vectorize(pretty_midi.note_number_to_name)\n",
    "sample_note_names = get_note_names(raw_notes['pitch'])\n",
    "sample_note_names[:10]"
   ]
  },
  {
   "cell_type": "code",
   "execution_count": null,
   "id": "b0d70693",
   "metadata": {},
   "outputs": [],
   "source": []
  },
  {
   "cell_type": "code",
   "execution_count": 7,
   "id": "81ac434d",
   "metadata": {},
   "outputs": [],
   "source": [
    "def plot_piano_roll(notes: pd.DataFrame, count: Optional[int] = None):\n",
    "    if count:\n",
    "        title = f'First {count} notes'\n",
    "    else:\n",
    "        title = f'Whole track'\n",
    "        count = len(notes['pitch'])\n",
    "    plt.figure(figsize=(20, 4))\n",
    "    plot_pitch = np.stack([notes['pitch'], notes['pitch']], axis=0)\n",
    "    plot_start_stop = np.stack([notes['start'], notes['end']], axis=0)\n",
    "    plt.plot(\n",
    "        plot_start_stop[:, :count], plot_pitch[:, :count], color=\"b\", marker=\".\")\n",
    "    plt.xlabel('Time [s]')\n",
    "    plt.ylabel('Pitch')\n",
    "    _ = plt.title(title)"
   ]
  },
  {
   "cell_type": "code",
   "execution_count": 8,
   "id": "fc494cc1",
   "metadata": {},
   "outputs": [
    {
     "data": {
      "image/png": "[encoded data removed]",
      "text/plain": [
       "<Figure size 2000x400 with 1 Axes>"
      ]
     },
     "metadata": {
      "image/png": {
       "height": 392,
       "width": 1616
      }
     },
     "output_type": "display_data"
    }
   ],
   "source": [
    "plot_piano_roll(raw_notes)"
   ]
  },
  {
   "cell_type": "code",
   "execution_count": 113,
   "id": "57b30893",
   "metadata": {},
   "outputs": [],
   "source": [
    "random.shuffle(filenames)"
   ]
  },
  {
   "cell_type": "code",
   "execution_count": 114,
   "id": "52ae4c3d",
   "metadata": {},
   "outputs": [
    {
     "data": {
      "text/plain": [
       "45403"
      ]
     },
     "execution_count": 114,
     "metadata": {},
     "output_type": "execute_result"
    }
   ],
   "source": [
    "num_files = 10\n",
    "all_notes = []\n",
    "for f in filenames[:num_files]:\n",
    "    try:\n",
    "        notes = midi_to_notes(f)\n",
    "        all_notes.append(notes)\n",
    "    except:\n",
    "        print(f)\n",
    "\n",
    "all_notes = pd.concat(all_notes)\n",
    "n_notes = len(all_notes)\n",
    "n_notes"
   ]
  },
  {
   "cell_type": "code",
   "execution_count": 9,
   "id": "e707f60b",
   "metadata": {},
   "outputs": [
    {
     "name": "stderr",
     "output_type": "stream",
     "text": [
      "C:\\Users\\shawn\\miniconda3\\lib\\site-packages\\pretty_midi\\pretty_midi.py:100: RuntimeWarning: Tempo, Key or Time signature change events found on non-zero tracks.  This is not a valid type 0 or type 1 MIDI file.  Tempo, Key or Time Signature may be wrong.\n",
      "  warnings.warn(\n"
     ]
    },
    {
     "data": {
      "text/plain": [
       "352"
      ]
     },
     "execution_count": 9,
     "metadata": {},
     "output_type": "execute_result"
    }
   ],
   "source": [
    "all_notes = []\n",
    "for i in range(1):\n",
    "    notes = midi_to_notes(\"G_major.mid\")\n",
    "    all_notes.append(notes)\n",
    "all_notes = pd.concat(all_notes)\n",
    "n_notes = len(all_notes)\n",
    "n_notes"
   ]
  },
  {
   "cell_type": "code",
   "execution_count": 10,
   "id": "fa2f9d19",
   "metadata": {},
   "outputs": [
    {
     "data": {
      "text/plain": [
       "array([[55.        ,  0.        ,  0.24895833],\n",
       "       [57.        ,  0.25      ,  0.24895833],\n",
       "       [59.        ,  0.25      ,  0.24895833],\n",
       "       ...,\n",
       "       [59.        ,  0.25      ,  0.24895833],\n",
       "       [57.        ,  0.25      ,  0.24895833],\n",
       "       [55.        ,  0.25      ,  0.24895833]])"
      ]
     },
     "execution_count": 10,
     "metadata": {},
     "output_type": "execute_result"
    }
   ],
   "source": [
    "key_order = ['pitch', 'step', 'duration']\n",
    "train_notes = np.stack([all_notes[key] for key in key_order], axis=1)\n",
    "train_notes"
   ]
  },
  {
   "cell_type": "code",
   "execution_count": 11,
   "id": "60ef1ed9",
   "metadata": {},
   "outputs": [
    {
     "data": {
      "text/plain": [
       "TensorSpec(shape=(3,), dtype=tf.float64, name=None)"
      ]
     },
     "execution_count": 11,
     "metadata": {},
     "output_type": "execute_result"
    }
   ],
   "source": [
    "notes_ds = tf.data.Dataset.from_tensor_slices(train_notes)\n",
    "notes_ds.element_spec"
   ]
  },
  {
   "cell_type": "code",
   "execution_count": 12,
   "id": "5787f199",
   "metadata": {},
   "outputs": [],
   "source": [
    "def create_sequences(\n",
    "    dataset: tf.data.Dataset, \n",
    "    seq_length: int,\n",
    "    vocab_size = 128,\n",
    ") -> tf.data.Dataset:\n",
    "    \"\"\"Returns TF Dataset of sequence and label examples.\"\"\"\n",
    "    seq_length = seq_length+1\n",
    "\n",
    "    # Take 1 extra for the labels\n",
    "    windows = dataset.window(seq_length, shift=1, stride=1,\n",
    "                                drop_remainder=True)\n",
    "\n",
    "    # `flat_map` flattens the\" dataset of datasets\" into a dataset of tensors\n",
    "    flatten = lambda x: x.batch(seq_length, drop_remainder=True)\n",
    "    sequences = windows.flat_map(flatten)\n",
    "\n",
    "    # Normalize note pitch\n",
    "    def scale_pitch(x):\n",
    "        x = x/[vocab_size,1.0,1.0]\n",
    "        return x\n",
    "\n",
    "    # Split the labels\n",
    "    def split_labels(sequences):\n",
    "        inputs = sequences[:-1]\n",
    "        labels_dense = sequences[-1]\n",
    "        labels = {key:labels_dense[i] for i,key in enumerate(key_order)}\n",
    "\n",
    "        return scale_pitch(inputs), labels\n",
    "\n",
    "    return sequences.map(split_labels, num_parallel_calls=tf.data.AUTOTUNE)"
   ]
  },
  {
   "cell_type": "code",
   "execution_count": 13,
   "id": "0afb9f60",
   "metadata": {},
   "outputs": [
    {
     "data": {
      "text/plain": [
       "(TensorSpec(shape=(50, 3), dtype=tf.float64, name=None),\n",
       " {'pitch': TensorSpec(shape=(), dtype=tf.float64, name=None),\n",
       "  'step': TensorSpec(shape=(), dtype=tf.float64, name=None),\n",
       "  'duration': TensorSpec(shape=(), dtype=tf.float64, name=None)})"
      ]
     },
     "execution_count": 13,
     "metadata": {},
     "output_type": "execute_result"
    }
   ],
   "source": [
    "seq_length = 50\n",
    "vocab_size = 128\n",
    "seq_ds = create_sequences(notes_ds, seq_length, vocab_size)\n",
    "seq_ds.element_spec"
   ]
  },
  {
   "cell_type": "code",
   "execution_count": 14,
   "id": "bcc1db40",
   "metadata": {},
   "outputs": [
    {
     "data": {
      "text/plain": [
       "(TensorSpec(shape=(64, 50, 3), dtype=tf.float64, name=None),\n",
       " {'pitch': TensorSpec(shape=(64,), dtype=tf.float64, name=None),\n",
       "  'step': TensorSpec(shape=(64,), dtype=tf.float64, name=None),\n",
       "  'duration': TensorSpec(shape=(64,), dtype=tf.float64, name=None)})"
      ]
     },
     "execution_count": 14,
     "metadata": {},
     "output_type": "execute_result"
    }
   ],
   "source": [
    "batch_size = 64\n",
    "buffer_size = n_notes - seq_length  # the number of items in the dataset\n",
    "train_ds = (seq_ds\n",
    "            #.shuffle(buffer_size)\n",
    "            .batch(batch_size, drop_remainder=True)\n",
    "            .cache()\n",
    "            .prefetch(tf.data.experimental.AUTOTUNE))\n",
    "train_ds.element_spec"
   ]
  },
  {
   "cell_type": "code",
   "execution_count": 15,
   "id": "e812c22f",
   "metadata": {},
   "outputs": [],
   "source": [
    "def mse_with_positive_pressure(y_true: tf.Tensor, y_pred: tf.Tensor):\n",
    "    mse = (y_true - y_pred) ** 2\n",
    "    positive_pressure = 10 * tf.maximum(-y_pred, 0.0)\n",
    "    return tf.reduce_mean(mse + positive_pressure)"
   ]
  },
  {
   "cell_type": "code",
   "execution_count": 16,
   "id": "1fa1709c",
   "metadata": {},
   "outputs": [
    {
     "name": "stdout",
     "output_type": "stream",
     "text": [
      "Model: \"model\"\n",
      "__________________________________________________________________________________________________\n",
      " Layer (type)                Output Shape                 Param #   Connected to                  \n",
      "==================================================================================================\n",
      " input_1 (InputLayer)        [(None, 50, 3)]              0         []                            \n",
      "                                                                                                  \n",
      " lstm (LSTM)                 (None, 512)                  1056768   ['input_1[0][0]']             \n",
      "                                                                                                  \n",
      " dropout (Dropout)           (None, 512)                  0         ['lstm[0][0]']                \n",
      "                                                                                                  \n",
      " dense (Dense)               (None, 256)                  131328    ['dropout[0][0]']             \n",
      "                                                                                                  \n",
      " duration (Dense)            (None, 1)                    257       ['dense[0][0]']               \n",
      "                                                                                                  \n",
      " pitch (Dense)               (None, 128)                  32896     ['dense[0][0]']               \n",
      "                                                                                                  \n",
      " step (Dense)                (None, 1)                    257       ['dense[0][0]']               \n",
      "                                                                                                  \n",
      "==================================================================================================\n",
      "Total params: 1221506 (4.66 MB)\n",
      "Trainable params: 1221506 (4.66 MB)\n",
      "Non-trainable params: 0 (0.00 Byte)\n",
      "__________________________________________________________________________________________________\n"
     ]
    }
   ],
   "source": [
    "input_shape = (seq_length, 3)\n",
    "learning_rate = 0.005\n",
    "\n",
    "# inputs = tf.keras.Input(input_shape)\n",
    "# x = tf.keras.layers.LSTM(128)(inputs)\n",
    "\n",
    "# outputs = {\n",
    "#     'pitch': tf.keras.layers.Dense(128, name='pitch')(x),\n",
    "#     'step': tf.keras.layers.Dense(1, name='step')(x),\n",
    "#     'duration': tf.keras.layers.Dense(1, name='duration')(x),\n",
    "# }\n",
    "\n",
    "# model = tf.keras.Model(inputs, outputs)\n",
    "\n",
    "inputs = tf.keras.Input(input_shape)\n",
    "lstm = tf.keras.layers.LSTM(512)(inputs)\n",
    "drop = tf.keras.layers.Dropout(0.25)(lstm)\n",
    "dense = tf.keras.layers.Dense(256)(drop)\n",
    "outputs = {\n",
    "    'pitch': tf.keras.layers.Dense(128, name='pitch')(dense),\n",
    "    'step': tf.keras.layers.Dense(1, name='step')(dense),\n",
    "    'duration': tf.keras.layers.Dense(1, name='duration')(dense),\n",
    "}\n",
    "\n",
    "model = tf.keras.Model(inputs, outputs)\n",
    "\n",
    "loss = {\n",
    "        'pitch': tf.keras.losses.SparseCategoricalCrossentropy(\n",
    "            from_logits=True),\n",
    "        'step': mse_with_positive_pressure,\n",
    "        'duration': mse_with_positive_pressure,\n",
    "}\n",
    "\n",
    "optimizer = tf.keras.optimizers.Adam(learning_rate=learning_rate)\n",
    "\n",
    "model.compile(\n",
    "    loss=loss,\n",
    "    loss_weights={\n",
    "        'pitch': 1.0,\n",
    "        'step': 1.0,\n",
    "        'duration':1.0,\n",
    "    },\n",
    "    optimizer=optimizer,\n",
    ")\n",
    "\n",
    "model.summary()"
   ]
  },
  {
   "cell_type": "code",
   "execution_count": 17,
   "id": "faae16b0",
   "metadata": {},
   "outputs": [],
   "source": [
    "callbacks = [\n",
    "    tf.keras.callbacks.ModelCheckpoint(\n",
    "        filepath='./training_checkpoints/ckpt_{epoch}',\n",
    "        save_weights_only=True),\n",
    "    tf.keras.callbacks.EarlyStopping(\n",
    "        monitor='loss',\n",
    "        patience=5,\n",
    "        verbose=1,\n",
    "        restore_best_weights=True),\n",
    "]"
   ]
  },
  {
   "cell_type": "code",
   "execution_count": 18,
   "id": "58c27795",
   "metadata": {
    "scrolled": true
   },
   "outputs": [
    {
     "name": "stdout",
     "output_type": "stream",
     "text": [
      "Epoch 1/100\n",
      "4/4 [==============================] - 13s 2s/step - loss: 9.1193 - duration_loss: 4.0649 - pitch_loss: 4.7973 - step_loss: 0.2571\n",
      "Epoch 2/100\n",
      "4/4 [==============================] - 3s 770ms/step - loss: 44.2326 - duration_loss: 38.7201 - pitch_loss: 5.2575 - step_loss: 0.2549\n",
      "Epoch 3/100\n",
      "4/4 [==============================] - 3s 780ms/step - loss: 4.7241 - duration_loss: 0.0490 - pitch_loss: 4.6723 - step_loss: 0.0028\n",
      "Epoch 4/100\n",
      "4/4 [==============================] - 3s 778ms/step - loss: 4.6016 - duration_loss: 0.0295 - pitch_loss: 4.5700 - step_loss: 0.0021\n",
      "Epoch 5/100\n",
      "4/4 [==============================] - 3s 771ms/step - loss: 6.5828 - duration_loss: 2.1656 - pitch_loss: 4.3660 - step_loss: 0.0512\n",
      "Epoch 6/100\n",
      "4/4 [==============================] - 3s 785ms/step - loss: 4.9205 - duration_loss: 0.9113 - pitch_loss: 3.9925 - step_loss: 0.0166\n",
      "Epoch 7/100\n",
      "4/4 [==============================] - 3s 772ms/step - loss: 4.4593 - duration_loss: 0.7870 - pitch_loss: 3.6208 - step_loss: 0.0516\n",
      "Epoch 8/100\n",
      "4/4 [==============================] - 3s 741ms/step - loss: 3.6361 - duration_loss: 0.2392 - pitch_loss: 3.3351 - step_loss: 0.0618\n",
      "Epoch 9/100\n",
      "4/4 [==============================] - 3s 842ms/step - loss: 3.2447 - duration_loss: 0.0359 - pitch_loss: 3.1974 - step_loss: 0.0114\n",
      "Epoch 10/100\n",
      "4/4 [==============================] - 3s 703ms/step - loss: 3.2915 - duration_loss: 0.1175 - pitch_loss: 3.1377 - step_loss: 0.0363\n",
      "Epoch 11/100\n",
      "4/4 [==============================] - 3s 717ms/step - loss: 3.1358 - duration_loss: 0.0130 - pitch_loss: 3.1147 - step_loss: 0.0081\n",
      "Epoch 12/100\n",
      "4/4 [==============================] - 3s 728ms/step - loss: 3.1554 - duration_loss: 0.0329 - pitch_loss: 3.1066 - step_loss: 0.0159\n",
      "Epoch 13/100\n",
      "4/4 [==============================] - 3s 734ms/step - loss: 3.1470 - duration_loss: 0.0468 - pitch_loss: 3.0969 - step_loss: 0.0033\n",
      "Epoch 14/100\n",
      "4/4 [==============================] - 3s 719ms/step - loss: 3.1332 - duration_loss: 0.0368 - pitch_loss: 3.0941 - step_loss: 0.0022\n",
      "Epoch 15/100\n",
      "4/4 [==============================] - 3s 717ms/step - loss: 3.1076 - duration_loss: 0.0106 - pitch_loss: 3.0946 - step_loss: 0.0024\n",
      "Epoch 16/100\n",
      "4/4 [==============================] - 3s 754ms/step - loss: 3.1083 - duration_loss: 0.0102 - pitch_loss: 3.0954 - step_loss: 0.0027\n",
      "Epoch 17/100\n",
      "4/4 [==============================] - 3s 736ms/step - loss: 3.1065 - duration_loss: 0.0127 - pitch_loss: 3.0909 - step_loss: 0.0028\n",
      "Epoch 18/100\n",
      "4/4 [==============================] - 3s 719ms/step - loss: 3.1024 - duration_loss: 0.0082 - pitch_loss: 3.0906 - step_loss: 0.0035\n",
      "Epoch 19/100\n",
      "4/4 [==============================] - 3s 725ms/step - loss: 3.0971 - duration_loss: 0.0067 - pitch_loss: 3.0885 - step_loss: 0.0020\n",
      "Epoch 20/100\n",
      "4/4 [==============================] - 3s 751ms/step - loss: 3.0929 - duration_loss: 0.0052 - pitch_loss: 3.0858 - step_loss: 0.0020\n",
      "Epoch 21/100\n",
      "4/4 [==============================] - 3s 724ms/step - loss: 3.0990 - duration_loss: 0.0076 - pitch_loss: 3.0898 - step_loss: 0.0016\n",
      "Epoch 22/100\n",
      "4/4 [==============================] - 3s 713ms/step - loss: 3.0974 - duration_loss: 0.0064 - pitch_loss: 3.0894 - step_loss: 0.0016\n",
      "Epoch 23/100\n",
      "4/4 [==============================] - 3s 718ms/step - loss: 3.0946 - duration_loss: 0.0051 - pitch_loss: 3.0882 - step_loss: 0.0013\n",
      "Epoch 24/100\n",
      "4/4 [==============================] - 3s 735ms/step - loss: 3.0891 - duration_loss: 0.0053 - pitch_loss: 3.0825 - step_loss: 0.0013\n",
      "Epoch 25/100\n",
      "4/4 [==============================] - 3s 715ms/step - loss: 3.0909 - duration_loss: 0.0057 - pitch_loss: 3.0837 - step_loss: 0.0015\n",
      "Epoch 26/100\n",
      "4/4 [==============================] - 3s 713ms/step - loss: 3.0899 - duration_loss: 0.0056 - pitch_loss: 3.0829 - step_loss: 0.0014\n",
      "Epoch 27/100\n",
      "4/4 [==============================] - 3s 723ms/step - loss: 3.0916 - duration_loss: 0.0051 - pitch_loss: 3.0851 - step_loss: 0.0014\n",
      "Epoch 28/100\n",
      "4/4 [==============================] - 3s 714ms/step - loss: 3.0891 - duration_loss: 0.0054 - pitch_loss: 3.0825 - step_loss: 0.0013\n",
      "Epoch 29/100\n",
      "4/4 [==============================] - 3s 708ms/step - loss: 3.0900 - duration_loss: 0.0055 - pitch_loss: 3.0832 - step_loss: 0.0013\n",
      "Epoch 30/100\n",
      "4/4 [==============================] - 3s 755ms/step - loss: 3.0918 - duration_loss: 0.0057 - pitch_loss: 3.0847 - step_loss: 0.0014\n",
      "Epoch 31/100\n",
      "4/4 [==============================] - 3s 718ms/step - loss: 3.0865 - duration_loss: 0.0061 - pitch_loss: 3.0790 - step_loss: 0.0014\n",
      "Epoch 32/100\n",
      "4/4 [==============================] - 3s 730ms/step - loss: 3.0864 - duration_loss: 0.0047 - pitch_loss: 3.0806 - step_loss: 0.0012\n",
      "Epoch 33/100\n",
      "4/4 [==============================] - 3s 715ms/step - loss: 3.0872 - duration_loss: 0.0049 - pitch_loss: 3.0810 - step_loss: 0.0013\n",
      "Epoch 34/100\n",
      "4/4 [==============================] - 3s 694ms/step - loss: 3.0826 - duration_loss: 0.0053 - pitch_loss: 3.0759 - step_loss: 0.0014\n",
      "Epoch 35/100\n",
      "4/4 [==============================] - 3s 718ms/step - loss: 3.0879 - duration_loss: 0.0050 - pitch_loss: 3.0816 - step_loss: 0.0012\n",
      "Epoch 36/100\n",
      "4/4 [==============================] - 3s 698ms/step - loss: 3.0853 - duration_loss: 0.0040 - pitch_loss: 3.0800 - step_loss: 0.0013\n",
      "Epoch 37/100\n",
      "4/4 [==============================] - 3s 695ms/step - loss: 3.0837 - duration_loss: 0.0048 - pitch_loss: 3.0778 - step_loss: 0.0012\n",
      "Epoch 38/100\n",
      "4/4 [==============================] - 3s 687ms/step - loss: 3.0792 - duration_loss: 0.0043 - pitch_loss: 3.0737 - step_loss: 0.0011\n",
      "Epoch 39/100\n",
      "4/4 [==============================] - 3s 689ms/step - loss: 3.0824 - duration_loss: 0.0042 - pitch_loss: 3.0769 - step_loss: 0.0013\n",
      "Epoch 40/100\n",
      "4/4 [==============================] - 3s 689ms/step - loss: 3.0801 - duration_loss: 0.0049 - pitch_loss: 3.0740 - step_loss: 0.0012\n",
      "Epoch 41/100\n",
      "4/4 [==============================] - 3s 703ms/step - loss: 3.0800 - duration_loss: 0.0046 - pitch_loss: 3.0742 - step_loss: 0.0011\n",
      "Epoch 42/100\n",
      "4/4 [==============================] - 3s 721ms/step - loss: 3.0729 - duration_loss: 0.0047 - pitch_loss: 3.0669 - step_loss: 0.0013\n",
      "Epoch 43/100\n",
      "4/4 [==============================] - 3s 732ms/step - loss: 3.0746 - duration_loss: 0.0040 - pitch_loss: 3.0695 - step_loss: 0.0011\n",
      "Epoch 44/100\n",
      "4/4 [==============================] - 3s 735ms/step - loss: 3.0725 - duration_loss: 0.0037 - pitch_loss: 3.0679 - step_loss: 0.0010\n",
      "Epoch 45/100\n",
      "4/4 [==============================] - 3s 731ms/step - loss: 3.0712 - duration_loss: 0.0043 - pitch_loss: 3.0658 - step_loss: 0.0011\n",
      "Epoch 46/100\n",
      "4/4 [==============================] - 3s 710ms/step - loss: 3.0701 - duration_loss: 0.0038 - pitch_loss: 3.0652 - step_loss: 0.0011\n",
      "Epoch 47/100\n",
      "4/4 [==============================] - 3s 704ms/step - loss: 3.0664 - duration_loss: 0.0042 - pitch_loss: 3.0612 - step_loss: 0.0011\n",
      "Epoch 48/100\n",
      "4/4 [==============================] - 3s 723ms/step - loss: 3.0680 - duration_loss: 0.0040 - pitch_loss: 3.0628 - step_loss: 0.0011\n",
      "Epoch 49/100\n",
      "4/4 [==============================] - 3s 716ms/step - loss: 3.0685 - duration_loss: 0.0038 - pitch_loss: 3.0638 - step_loss: 9.7310e-04\n",
      "Epoch 50/100\n",
      "4/4 [==============================] - 3s 707ms/step - loss: 3.0577 - duration_loss: 0.0040 - pitch_loss: 3.0526 - step_loss: 0.0011\n",
      "Epoch 51/100\n",
      "4/4 [==============================] - 3s 721ms/step - loss: 3.0557 - duration_loss: 0.0033 - pitch_loss: 3.0514 - step_loss: 9.6067e-04\n",
      "Epoch 52/100\n",
      "4/4 [==============================] - 3s 724ms/step - loss: 3.0580 - duration_loss: 0.0038 - pitch_loss: 3.0532 - step_loss: 0.0011\n",
      "Epoch 53/100\n",
      "4/4 [==============================] - 3s 743ms/step - loss: 3.0553 - duration_loss: 0.0041 - pitch_loss: 3.0502 - step_loss: 9.7007e-04\n",
      "Epoch 54/100\n",
      "4/4 [==============================] - 3s 719ms/step - loss: 3.0573 - duration_loss: 0.0040 - pitch_loss: 3.0522 - step_loss: 0.0011\n",
      "Epoch 55/100\n",
      "4/4 [==============================] - 3s 699ms/step - loss: 3.0422 - duration_loss: 0.0030 - pitch_loss: 3.0382 - step_loss: 0.0010\n",
      "Epoch 56/100\n",
      "4/4 [==============================] - 3s 673ms/step - loss: 3.0448 - duration_loss: 0.0032 - pitch_loss: 3.0406 - step_loss: 8.8312e-04\n",
      "Epoch 57/100\n"
     ]
    },
    {
     "name": "stdout",
     "output_type": "stream",
     "text": [
      "4/4 [==============================] - 3s 704ms/step - loss: 3.0369 - duration_loss: 0.0033 - pitch_loss: 3.0329 - step_loss: 7.6571e-04\n",
      "Epoch 58/100\n",
      "4/4 [==============================] - 3s 697ms/step - loss: 3.0301 - duration_loss: 0.0035 - pitch_loss: 3.0258 - step_loss: 8.2526e-04\n",
      "Epoch 59/100\n",
      "4/4 [==============================] - 3s 695ms/step - loss: 3.0290 - duration_loss: 0.0034 - pitch_loss: 3.0247 - step_loss: 9.0862e-04\n",
      "Epoch 60/100\n",
      "4/4 [==============================] - 3s 717ms/step - loss: 3.0244 - duration_loss: 0.0032 - pitch_loss: 3.0202 - step_loss: 9.2953e-04\n",
      "Epoch 61/100\n",
      "4/4 [==============================] - 3s 730ms/step - loss: 3.0124 - duration_loss: 0.0036 - pitch_loss: 3.0080 - step_loss: 7.6470e-04\n",
      "Epoch 62/100\n",
      "4/4 [==============================] - 3s 748ms/step - loss: 3.0078 - duration_loss: 0.0029 - pitch_loss: 3.0040 - step_loss: 8.8643e-04\n",
      "Epoch 63/100\n",
      "4/4 [==============================] - 3s 724ms/step - loss: 2.9953 - duration_loss: 0.0029 - pitch_loss: 2.9915 - step_loss: 8.4670e-04\n",
      "Epoch 64/100\n",
      "4/4 [==============================] - 3s 720ms/step - loss: 2.9878 - duration_loss: 0.0037 - pitch_loss: 2.9833 - step_loss: 8.7232e-04\n",
      "Epoch 65/100\n",
      "4/4 [==============================] - 3s 694ms/step - loss: 2.9771 - duration_loss: 0.0026 - pitch_loss: 2.9736 - step_loss: 9.5223e-04\n",
      "Epoch 66/100\n",
      "4/4 [==============================] - 3s 710ms/step - loss: 2.9586 - duration_loss: 0.0028 - pitch_loss: 2.9550 - step_loss: 7.9643e-04\n",
      "Epoch 67/100\n",
      "4/4 [==============================] - 3s 722ms/step - loss: 2.9389 - duration_loss: 0.0029 - pitch_loss: 2.9351 - step_loss: 8.5651e-04\n",
      "Epoch 68/100\n",
      "4/4 [==============================] - 3s 697ms/step - loss: 2.9160 - duration_loss: 0.0027 - pitch_loss: 2.9124 - step_loss: 8.3069e-04\n",
      "Epoch 69/100\n",
      "4/4 [==============================] - 3s 707ms/step - loss: 2.8921 - duration_loss: 0.0030 - pitch_loss: 2.8882 - step_loss: 9.3277e-04\n",
      "Epoch 70/100\n",
      "4/4 [==============================] - 3s 708ms/step - loss: 2.8686 - duration_loss: 0.0024 - pitch_loss: 2.8654 - step_loss: 8.3916e-04\n",
      "Epoch 71/100\n",
      "4/4 [==============================] - 3s 719ms/step - loss: 2.8480 - duration_loss: 0.0030 - pitch_loss: 2.8440 - step_loss: 0.0011\n",
      "Epoch 72/100\n",
      "4/4 [==============================] - 3s 705ms/step - loss: 2.8030 - duration_loss: 0.0030 - pitch_loss: 2.7990 - step_loss: 9.7200e-04\n",
      "Epoch 73/100\n",
      "4/4 [==============================] - 3s 690ms/step - loss: 2.7526 - duration_loss: 0.0033 - pitch_loss: 2.7483 - step_loss: 0.0010\n",
      "Epoch 74/100\n",
      "4/4 [==============================] - 3s 714ms/step - loss: 2.6850 - duration_loss: 0.0036 - pitch_loss: 2.6802 - step_loss: 0.0012\n",
      "Epoch 75/100\n",
      "4/4 [==============================] - 3s 716ms/step - loss: 2.5808 - duration_loss: 0.0039 - pitch_loss: 2.5755 - step_loss: 0.0014\n",
      "Epoch 76/100\n",
      "4/4 [==============================] - 3s 705ms/step - loss: 2.4252 - duration_loss: 0.0091 - pitch_loss: 2.4133 - step_loss: 0.0029\n",
      "Epoch 77/100\n",
      "4/4 [==============================] - 3s 689ms/step - loss: 3.2303 - duration_loss: 0.0130 - pitch_loss: 3.2128 - step_loss: 0.0045\n",
      "Epoch 78/100\n",
      "4/4 [==============================] - 3s 702ms/step - loss: 3.0478 - duration_loss: 0.0244 - pitch_loss: 3.0221 - step_loss: 0.0013\n",
      "Epoch 79/100\n",
      "4/4 [==============================] - 3s 701ms/step - loss: 2.9383 - duration_loss: 0.0124 - pitch_loss: 2.9216 - step_loss: 0.0043\n",
      "Epoch 80/100\n",
      "4/4 [==============================] - 3s 688ms/step - loss: 2.9564 - duration_loss: 0.0039 - pitch_loss: 2.9505 - step_loss: 0.0020\n",
      "Epoch 81/100\n",
      "4/4 [==============================] - ETA: 0s - loss: 2.9132 - duration_loss: 0.0015 - pitch_loss: 2.9104 - step_loss: 0.0013  Restoring model weights from the end of the best epoch: 76.\n",
      "4/4 [==============================] - 3s 728ms/step - loss: 2.9132 - duration_loss: 0.0015 - pitch_loss: 2.9104 - step_loss: 0.0013\n",
      "Epoch 81: early stopping\n",
      "CPU times: total: 4min 26s\n",
      "Wall time: 3min 59s\n"
     ]
    }
   ],
   "source": [
    "%%time\n",
    "epochs = 100\n",
    "\n",
    "history = model.fit(\n",
    "    train_ds,\n",
    "    epochs=epochs,\n",
    "    callbacks=callbacks,\n",
    ")"
   ]
  },
  {
   "cell_type": "code",
   "execution_count": 19,
   "id": "bcc321f8",
   "metadata": {},
   "outputs": [
    {
     "data": {
      "image/png": "[encoded data removed]",
      "text/plain": [
       "<Figure size 640x480 with 1 Axes>"
      ]
     },
     "metadata": {
      "image/png": {
       "height": 413,
       "width": 543
      }
     },
     "output_type": "display_data"
    }
   ],
   "source": [
    "plt.plot(history.epoch, history.history['loss'], label='total loss')\n",
    "plt.show()"
   ]
  },
  {
   "cell_type": "code",
   "execution_count": 20,
   "id": "8d8488cc",
   "metadata": {},
   "outputs": [],
   "source": [
    "def predict_next_note(\n",
    "        notes: np.ndarray, \n",
    "        model: tf.keras.Model, \n",
    "        temperature: float = 1.0) -> tuple[int, float, float]:\n",
    "    \"\"\"Generates a note as a tuple of (pitch, step, duration), using a trained sequence model.\"\"\"\n",
    "\n",
    "    assert temperature > 0\n",
    "\n",
    "    # Add batch dimension\n",
    "    inputs = tf.expand_dims(notes, 0)\n",
    "\n",
    "    predictions = model.predict(inputs)\n",
    "    pitch_logits = predictions['pitch']\n",
    "    step = predictions['step']\n",
    "    duration = predictions['duration']\n",
    "\n",
    "    pitch_logits /= temperature\n",
    "    pitch = tf.random.categorical(pitch_logits, num_samples=1)\n",
    "    pitch = tf.squeeze(pitch, axis=-1)\n",
    "    duration = tf.squeeze(duration, axis=-1)\n",
    "    step = tf.squeeze(step, axis=-1)\n",
    "\n",
    "    # `step` and `duration` values should be non-negative\n",
    "    step = tf.maximum(0, step)\n",
    "    duration = tf.maximum(0, duration)\n",
    "\n",
    "    return int(pitch), float(step), float(duration)"
   ]
  },
  {
   "cell_type": "code",
   "execution_count": 22,
   "id": "abb03190",
   "metadata": {},
   "outputs": [],
   "source": [
    "temperature = 2.0\n",
    "num_predictions = 120\n",
    "\n",
    "sample_notes = np.stack([all_notes[key] for key in key_order], axis=1)\n",
    "\n",
    "# The initial sequence of notes; pitch is normalized similar to training\n",
    "# sequences\n",
    "input_notes = (\n",
    "    sample_notes[:seq_length] / np.array([vocab_size, 1, 1]))"
   ]
  },
  {
   "cell_type": "code",
   "execution_count": 23,
   "id": "5bf69d56",
   "metadata": {},
   "outputs": [
    {
     "data": {
      "text/plain": [
       "(50, 3)"
      ]
     },
     "execution_count": 23,
     "metadata": {},
     "output_type": "execute_result"
    }
   ],
   "source": [
    "input_notes.shape"
   ]
  },
  {
   "cell_type": "code",
   "execution_count": 24,
   "id": "4d54dc23",
   "metadata": {
    "scrolled": true
   },
   "outputs": [
    {
     "name": "stdout",
     "output_type": "stream",
     "text": [
      "1/1 [==============================] - 1s 1s/step\n",
      "1/1 [==============================] - 0s 70ms/step\n",
      "1/1 [==============================] - 0s 110ms/step\n",
      "1/1 [==============================] - 0s 105ms/step\n",
      "1/1 [==============================] - 0s 94ms/step\n",
      "1/1 [==============================] - 0s 110ms/step\n",
      "1/1 [==============================] - 0s 98ms/step\n",
      "1/1 [==============================] - 0s 81ms/step\n",
      "1/1 [==============================] - 0s 88ms/step\n",
      "1/1 [==============================] - 0s 87ms/step\n",
      "1/1 [==============================] - 0s 82ms/step\n",
      "1/1 [==============================] - 0s 83ms/step\n",
      "1/1 [==============================] - 0s 94ms/step\n",
      "1/1 [==============================] - 0s 95ms/step\n",
      "1/1 [==============================] - 0s 80ms/step\n",
      "1/1 [==============================] - 0s 100ms/step\n",
      "1/1 [==============================] - 0s 94ms/step\n",
      "1/1 [==============================] - 0s 100ms/step\n",
      "1/1 [==============================] - 0s 77ms/step\n",
      "1/1 [==============================] - 0s 81ms/step\n",
      "1/1 [==============================] - 0s 113ms/step\n",
      "1/1 [==============================] - 0s 84ms/step\n",
      "1/1 [==============================] - 0s 95ms/step\n",
      "1/1 [==============================] - 0s 96ms/step\n",
      "1/1 [==============================] - 0s 88ms/step\n",
      "1/1 [==============================] - 0s 87ms/step\n",
      "1/1 [==============================] - 0s 95ms/step\n",
      "1/1 [==============================] - 0s 86ms/step\n",
      "1/1 [==============================] - 0s 79ms/step\n",
      "1/1 [==============================] - 0s 86ms/step\n",
      "1/1 [==============================] - 0s 98ms/step\n",
      "1/1 [==============================] - 0s 80ms/step\n",
      "1/1 [==============================] - 0s 95ms/step\n",
      "1/1 [==============================] - 0s 95ms/step\n",
      "1/1 [==============================] - 0s 95ms/step\n",
      "1/1 [==============================] - 0s 93ms/step\n",
      "1/1 [==============================] - 0s 87ms/step\n",
      "1/1 [==============================] - 0s 82ms/step\n",
      "1/1 [==============================] - 0s 95ms/step\n",
      "1/1 [==============================] - 0s 89ms/step\n",
      "1/1 [==============================] - 0s 86ms/step\n",
      "1/1 [==============================] - 0s 86ms/step\n",
      "1/1 [==============================] - 0s 94ms/step\n",
      "1/1 [==============================] - 0s 105ms/step\n",
      "1/1 [==============================] - 0s 91ms/step\n",
      "1/1 [==============================] - 0s 103ms/step\n",
      "1/1 [==============================] - 0s 95ms/step\n",
      "1/1 [==============================] - 0s 100ms/step\n",
      "1/1 [==============================] - 0s 84ms/step\n",
      "1/1 [==============================] - 0s 94ms/step\n",
      "1/1 [==============================] - 0s 82ms/step\n",
      "1/1 [==============================] - 0s 94ms/step\n",
      "1/1 [==============================] - 0s 95ms/step\n",
      "1/1 [==============================] - 0s 90ms/step\n",
      "1/1 [==============================] - 0s 80ms/step\n",
      "1/1 [==============================] - 0s 83ms/step\n",
      "1/1 [==============================] - 0s 79ms/step\n",
      "1/1 [==============================] - 0s 99ms/step\n",
      "1/1 [==============================] - 0s 91ms/step\n",
      "1/1 [==============================] - 0s 90ms/step\n",
      "1/1 [==============================] - 0s 79ms/step\n",
      "1/1 [==============================] - 0s 83ms/step\n",
      "1/1 [==============================] - 0s 84ms/step\n",
      "1/1 [==============================] - 0s 95ms/step\n",
      "1/1 [==============================] - 0s 77ms/step\n",
      "1/1 [==============================] - 0s 100ms/step\n",
      "1/1 [==============================] - 0s 81ms/step\n",
      "1/1 [==============================] - 0s 83ms/step\n",
      "1/1 [==============================] - 0s 82ms/step\n",
      "1/1 [==============================] - 0s 79ms/step\n",
      "1/1 [==============================] - 0s 84ms/step\n",
      "1/1 [==============================] - 0s 89ms/step\n",
      "1/1 [==============================] - 0s 93ms/step\n",
      "1/1 [==============================] - 0s 94ms/step\n",
      "1/1 [==============================] - 0s 95ms/step\n",
      "1/1 [==============================] - 0s 79ms/step\n",
      "1/1 [==============================] - 0s 83ms/step\n",
      "1/1 [==============================] - 0s 87ms/step\n",
      "1/1 [==============================] - 0s 94ms/step\n",
      "1/1 [==============================] - 0s 94ms/step\n",
      "1/1 [==============================] - 0s 126ms/step\n",
      "1/1 [==============================] - 0s 95ms/step\n",
      "1/1 [==============================] - 0s 111ms/step\n",
      "1/1 [==============================] - 0s 79ms/step\n",
      "1/1 [==============================] - 0s 94ms/step\n",
      "1/1 [==============================] - 0s 94ms/step\n",
      "1/1 [==============================] - 0s 80ms/step\n",
      "1/1 [==============================] - 0s 79ms/step\n",
      "1/1 [==============================] - 0s 87ms/step\n",
      "1/1 [==============================] - 0s 96ms/step\n",
      "1/1 [==============================] - 0s 94ms/step\n",
      "1/1 [==============================] - 0s 75ms/step\n",
      "1/1 [==============================] - 0s 94ms/step\n",
      "1/1 [==============================] - 0s 94ms/step\n",
      "1/1 [==============================] - 0s 79ms/step\n",
      "1/1 [==============================] - 0s 90ms/step\n",
      "1/1 [==============================] - 0s 79ms/step\n",
      "1/1 [==============================] - 0s 94ms/step\n",
      "1/1 [==============================] - 0s 74ms/step\n",
      "1/1 [==============================] - 0s 83ms/step\n",
      "1/1 [==============================] - 0s 98ms/step\n",
      "1/1 [==============================] - 0s 89ms/step\n",
      "1/1 [==============================] - 0s 79ms/step\n",
      "1/1 [==============================] - 0s 94ms/step\n",
      "1/1 [==============================] - 0s 94ms/step\n",
      "1/1 [==============================] - 0s 83ms/step\n",
      "1/1 [==============================] - 0s 84ms/step\n",
      "1/1 [==============================] - 0s 94ms/step\n",
      "1/1 [==============================] - 0s 94ms/step\n",
      "1/1 [==============================] - 0s 87ms/step\n",
      "1/1 [==============================] - 0s 78ms/step\n",
      "1/1 [==============================] - 0s 95ms/step\n",
      "1/1 [==============================] - 0s 94ms/step\n",
      "1/1 [==============================] - 0s 78ms/step\n",
      "1/1 [==============================] - 0s 94ms/step\n",
      "1/1 [==============================] - 0s 94ms/step\n",
      "1/1 [==============================] - 0s 96ms/step\n",
      "1/1 [==============================] - 0s 79ms/step\n",
      "1/1 [==============================] - 0s 94ms/step\n",
      "1/1 [==============================] - 0s 95ms/step\n"
     ]
    }
   ],
   "source": [
    "generated_notes = []\n",
    "prev_start = 0\n",
    "for _ in range(num_predictions):\n",
    "    pitch, step, duration = predict_next_note(input_notes, model, temperature)\n",
    "    start = prev_start + step\n",
    "    end = start + duration\n",
    "    input_note = (pitch, step, duration)\n",
    "    generated_notes.append((*input_note, start, end))\n",
    "    input_notes = np.delete(input_notes, 0, axis=0)\n",
    "    input_notes = np.append(input_notes, np.expand_dims(input_note, 0), axis=0)\n",
    "    prev_start = start\n",
    "\n",
    "generated_notes = pd.DataFrame(\n",
    "        generated_notes, columns=(*key_order, 'start', 'end'))"
   ]
  },
  {
   "cell_type": "code",
   "execution_count": 25,
   "id": "964130b2",
   "metadata": {},
   "outputs": [
    {
     "data": {
      "text/html": [
       "<div>\n",
       "<style scoped>\n",
       "    .dataframe tbody tr th:only-of-type {\n",
       "        vertical-align: middle;\n",
       "    }\n",
       "\n",
       "    .dataframe tbody tr th {\n",
       "        vertical-align: top;\n",
       "    }\n",
       "\n",
       "    .dataframe thead th {\n",
       "        text-align: right;\n",
       "    }\n",
       "</style>\n",
       "<table border=\"1\" class=\"dataframe\">\n",
       "  <thead>\n",
       "    <tr style=\"text-align: right;\">\n",
       "      <th></th>\n",
       "      <th>pitch</th>\n",
       "      <th>step</th>\n",
       "      <th>duration</th>\n",
       "      <th>start</th>\n",
       "      <th>end</th>\n",
       "    </tr>\n",
       "  </thead>\n",
       "  <tbody>\n",
       "    <tr>\n",
       "      <th>0</th>\n",
       "      <td>61</td>\n",
       "      <td>0.209999</td>\n",
       "      <td>0.259102</td>\n",
       "      <td>0.209999</td>\n",
       "      <td>0.469101</td>\n",
       "    </tr>\n",
       "    <tr>\n",
       "      <th>1</th>\n",
       "      <td>83</td>\n",
       "      <td>0.060308</td>\n",
       "      <td>0.000000</td>\n",
       "      <td>0.270307</td>\n",
       "      <td>0.270307</td>\n",
       "    </tr>\n",
       "    <tr>\n",
       "      <th>2</th>\n",
       "      <td>83</td>\n",
       "      <td>0.029022</td>\n",
       "      <td>0.000000</td>\n",
       "      <td>0.299329</td>\n",
       "      <td>0.299329</td>\n",
       "    </tr>\n",
       "    <tr>\n",
       "      <th>3</th>\n",
       "      <td>84</td>\n",
       "      <td>0.036309</td>\n",
       "      <td>0.000000</td>\n",
       "      <td>0.335638</td>\n",
       "      <td>0.335638</td>\n",
       "    </tr>\n",
       "    <tr>\n",
       "      <th>4</th>\n",
       "      <td>84</td>\n",
       "      <td>0.029109</td>\n",
       "      <td>0.000000</td>\n",
       "      <td>0.364747</td>\n",
       "      <td>0.364747</td>\n",
       "    </tr>\n",
       "    <tr>\n",
       "      <th>5</th>\n",
       "      <td>84</td>\n",
       "      <td>0.025234</td>\n",
       "      <td>0.000000</td>\n",
       "      <td>0.389981</td>\n",
       "      <td>0.389981</td>\n",
       "    </tr>\n",
       "    <tr>\n",
       "      <th>6</th>\n",
       "      <td>84</td>\n",
       "      <td>0.020574</td>\n",
       "      <td>0.000000</td>\n",
       "      <td>0.410555</td>\n",
       "      <td>0.410555</td>\n",
       "    </tr>\n",
       "    <tr>\n",
       "      <th>7</th>\n",
       "      <td>84</td>\n",
       "      <td>0.016362</td>\n",
       "      <td>0.000000</td>\n",
       "      <td>0.426917</td>\n",
       "      <td>0.426917</td>\n",
       "    </tr>\n",
       "    <tr>\n",
       "      <th>8</th>\n",
       "      <td>91</td>\n",
       "      <td>0.012300</td>\n",
       "      <td>0.000000</td>\n",
       "      <td>0.439217</td>\n",
       "      <td>0.439217</td>\n",
       "    </tr>\n",
       "    <tr>\n",
       "      <th>9</th>\n",
       "      <td>84</td>\n",
       "      <td>0.014977</td>\n",
       "      <td>0.000000</td>\n",
       "      <td>0.454194</td>\n",
       "      <td>0.454194</td>\n",
       "    </tr>\n",
       "  </tbody>\n",
       "</table>\n",
       "</div>"
      ],
      "text/plain": [
       "   pitch      step  duration     start       end\n",
       "0     61  0.209999  0.259102  0.209999  0.469101\n",
       "1     83  0.060308  0.000000  0.270307  0.270307\n",
       "2     83  0.029022  0.000000  0.299329  0.299329\n",
       "3     84  0.036309  0.000000  0.335638  0.335638\n",
       "4     84  0.029109  0.000000  0.364747  0.364747\n",
       "5     84  0.025234  0.000000  0.389981  0.389981\n",
       "6     84  0.020574  0.000000  0.410555  0.410555\n",
       "7     84  0.016362  0.000000  0.426917  0.426917\n",
       "8     91  0.012300  0.000000  0.439217  0.439217\n",
       "9     84  0.014977  0.000000  0.454194  0.454194"
      ]
     },
     "execution_count": 25,
     "metadata": {},
     "output_type": "execute_result"
    }
   ],
   "source": [
    "generated_notes.head(10)"
   ]
  },
  {
   "cell_type": "code",
   "execution_count": 26,
   "id": "9f89ce20",
   "metadata": {},
   "outputs": [],
   "source": [
    "def notes_to_midi(\n",
    "    notes: pd.DataFrame,\n",
    "    out_file: str, \n",
    "    instrument_name: str,\n",
    "    velocity: int = 100,  # note loudness\n",
    ") -> pretty_midi.PrettyMIDI:\n",
    "\n",
    "    pm = pretty_midi.PrettyMIDI()\n",
    "    instrument = pretty_midi.Instrument(\n",
    "        program=pretty_midi.instrument_name_to_program(\n",
    "            instrument_name))\n",
    "\n",
    "    prev_start = 0\n",
    "    for i, note in notes.iterrows():\n",
    "        start = float(prev_start + note['step'])\n",
    "        end = float(start + note['duration'])\n",
    "        note = pretty_midi.Note(\n",
    "            velocity=velocity,\n",
    "            pitch=int(note['pitch']),\n",
    "            start=start,\n",
    "            end=end,\n",
    "        )\n",
    "        instrument.notes.append(note)\n",
    "        prev_start = start\n",
    "\n",
    "    pm.instruments.append(instrument)\n",
    "    pm.write(out_file)\n",
    "    return pm"
   ]
  },
  {
   "cell_type": "code",
   "execution_count": 27,
   "id": "35d6b318",
   "metadata": {},
   "outputs": [
    {
     "data": {
      "text/plain": [
       "'Acoustic Grand Piano'"
      ]
     },
     "execution_count": 27,
     "metadata": {},
     "output_type": "execute_result"
    }
   ],
   "source": [
    "instrument = pm.instruments[0]\n",
    "instrument_name = pretty_midi.program_to_instrument_name(instrument.program)\n",
    "instrument_name"
   ]
  },
  {
   "cell_type": "code",
   "execution_count": 28,
   "id": "c4adaaf0",
   "metadata": {
    "scrolled": true
   },
   "outputs": [
    {
     "data": {
      "image/png": "[encoded data removed]",
      "text/plain": [
       "<Figure size 2000x400 with 1 Axes>"
      ]
     },
     "metadata": {
      "image/png": {
       "height": 392,
       "width": 1616
      }
     },
     "output_type": "display_data"
    }
   ],
   "source": [
    "plot_piano_roll(generated_notes)"
   ]
  },
  {
   "cell_type": "code",
   "execution_count": 153,
   "id": "5f431bd2",
   "metadata": {},
   "outputs": [],
   "source": [
    "out_file = 'output.mid'\n",
    "out_pm = notes_to_midi(\n",
    "    generated_notes, out_file = out_file, instrument_name = instrument_name)\n",
    "b = converter.parse('output.mid')\n",
    "sp = midi.realtime.StreamPlayer(b)\n",
    "sp.play()"
   ]
  },
  {
   "cell_type": "code",
   "execution_count": 141,
   "id": "ea925769",
   "metadata": {},
   "outputs": [],
   "source": [
    "sp.stop()"
   ]
  },
  {
   "cell_type": "code",
   "execution_count": null,
   "id": "84270262",
   "metadata": {},
   "outputs": [],
   "source": []
  },
  {
   "cell_type": "code",
   "execution_count": 142,
   "id": "b817e197",
   "metadata": {},
   "outputs": [],
   "source": [
    "def plot_distributions(notes: pd.DataFrame, drop_percentile=2.5):\n",
    "    plt.figure(figsize=[15, 5])\n",
    "    plt.subplot(1, 3, 1)\n",
    "    sns.histplot(notes, x=\"pitch\", bins=20)\n",
    "\n",
    "    plt.subplot(1, 3, 2)\n",
    "    max_step = np.percentile(notes['step'], 100 - drop_percentile)\n",
    "    sns.histplot(notes, x=\"step\", bins=np.linspace(0, max_step, 21))\n",
    "\n",
    "    plt.subplot(1, 3, 3)\n",
    "    max_duration = np.percentile(notes['duration'], 100 - drop_percentile)\n",
    "    sns.histplot(notes, x=\"duration\", bins=np.linspace(0, max_duration, 21))"
   ]
  },
  {
   "cell_type": "code",
   "execution_count": 143,
   "id": "cdb5ce24",
   "metadata": {},
   "outputs": [
    {
     "data": {
      "image/png": "[encoded data removed]",
      "text/plain": [
       "<Figure size 1500x500 with 3 Axes>"
      ]
     },
     "metadata": {
      "image/png": {
       "height": 448,
       "width": 1229
      }
     },
     "output_type": "display_data"
    }
   ],
   "source": [
    "plot_distributions(generated_notes)"
   ]
  },
  {
   "cell_type": "code",
   "execution_count": null,
   "id": "1907575c",
   "metadata": {},
   "outputs": [],
   "source": []
  },
  {
   "cell_type": "code",
   "execution_count": 144,
   "id": "115a82a2",
   "metadata": {},
   "outputs": [
    {
     "data": {
      "text/plain": [
       "music21.stream.base.Score"
      ]
     },
     "execution_count": 144,
     "metadata": {},
     "output_type": "execute_result"
    }
   ],
   "source": [
    "b = converter.parse(\"output.mid\")\n",
    "type(b)"
   ]
  },
  {
   "cell_type": "code",
   "execution_count": 145,
   "id": "939d1367",
   "metadata": {},
   "outputs": [
    {
     "ename": "SubConverterFileIOException",
     "evalue": "[23636:344:20231128,012715.614:ERROR process_info.cc:375] NtQuerySystemInformation SystemExtendedHandleInformation: The specified information record length does not match the length required for the specified information class. (0xc0000004)\r\n[23636:22444:20231128,012715.632:ERROR filesystem_win.cc:129] GetFileAttributes C:/Users/shawn/AppData/Local/MuseScore/MuseScore4/logs/dumps\\attachments\\6cb9e2eb-b17a-49fd-b0d1-19ca2d4b5ba2: The system cannot find the file specified. (2)\r\n",
     "output_type": "error",
     "traceback": [
      "\u001b[1;31m---------------------------------------------------------------------------\u001b[0m",
      "\u001b[1;31mSubConverterFileIOException\u001b[0m               Traceback (most recent call last)",
      "Cell \u001b[1;32mIn [145], line 1\u001b[0m\n\u001b[1;32m----> 1\u001b[0m \u001b[43mb\u001b[49m\u001b[38;5;241;43m.\u001b[39;49m\u001b[43mshow\u001b[49m\u001b[43m(\u001b[49m\u001b[43m)\u001b[49m\n",
      "File \u001b[1;32m~\\miniconda3\\lib\\site-packages\\music21\\stream\\base.py:397\u001b[0m, in \u001b[0;36mStream.show\u001b[1;34m(self, fmt, app, **keywords)\u001b[0m\n\u001b[0;32m    395\u001b[0m \u001b[38;5;28;01mif\u001b[39;00m \u001b[38;5;28mself\u001b[39m\u001b[38;5;241m.\u001b[39misSorted \u001b[38;5;129;01mis\u001b[39;00m \u001b[38;5;28;01mFalse\u001b[39;00m \u001b[38;5;129;01mand\u001b[39;00m \u001b[38;5;28mself\u001b[39m\u001b[38;5;241m.\u001b[39mautoSort:\n\u001b[0;32m    396\u001b[0m     \u001b[38;5;28mself\u001b[39m\u001b[38;5;241m.\u001b[39msort()\n\u001b[1;32m--> 397\u001b[0m \u001b[38;5;28;01mreturn\u001b[39;00m \u001b[38;5;28msuper\u001b[39m()\u001b[38;5;241m.\u001b[39mshow(fmt\u001b[38;5;241m=\u001b[39mfmt, app\u001b[38;5;241m=\u001b[39mapp, \u001b[38;5;241m*\u001b[39m\u001b[38;5;241m*\u001b[39mkeywords)\n",
      "File \u001b[1;32m~\\miniconda3\\lib\\site-packages\\music21\\base.py:2888\u001b[0m, in \u001b[0;36mMusic21Object.show\u001b[1;34m(self, fmt, app, **keywords)\u001b[0m\n\u001b[0;32m   2886\u001b[0m scClass \u001b[38;5;241m=\u001b[39m common\u001b[38;5;241m.\u001b[39mfindSubConverterForFormat(regularizedConverterFormat)\n\u001b[0;32m   2887\u001b[0m formatWriter \u001b[38;5;241m=\u001b[39m scClass()\n\u001b[1;32m-> 2888\u001b[0m \u001b[38;5;28;01mreturn\u001b[39;00m formatWriter\u001b[38;5;241m.\u001b[39mshow(\u001b[38;5;28mself\u001b[39m,\n\u001b[0;32m   2889\u001b[0m                          regularizedConverterFormat,\n\u001b[0;32m   2890\u001b[0m                          app\u001b[38;5;241m=\u001b[39mapp,\n\u001b[0;32m   2891\u001b[0m                          subformats\u001b[38;5;241m=\u001b[39msubformats,\n\u001b[0;32m   2892\u001b[0m                          \u001b[38;5;241m*\u001b[39m\u001b[38;5;241m*\u001b[39mkeywords)\n",
      "File \u001b[1;32m~\\miniconda3\\lib\\site-packages\\music21\\converter\\subConverters.py:395\u001b[0m, in \u001b[0;36mConverterIPython.show\u001b[1;34m(self, obj, fmt, app, subformats, **keywords)\u001b[0m\n\u001b[0;32m    392\u001b[0m     scores \u001b[38;5;241m=\u001b[39m \u001b[38;5;28mlist\u001b[39m(obj\u001b[38;5;241m.\u001b[39mscores)\n\u001b[0;32m    394\u001b[0m \u001b[38;5;28;01mfor\u001b[39;00m s \u001b[38;5;129;01min\u001b[39;00m scores:\n\u001b[1;32m--> 395\u001b[0m     fp \u001b[38;5;241m=\u001b[39m helperSubConverter\u001b[38;5;241m.\u001b[39mwrite(s,\n\u001b[0;32m    396\u001b[0m                                   helperFormat,\n\u001b[0;32m    397\u001b[0m                                   subformats\u001b[38;5;241m=\u001b[39mhelperSubformats,\n\u001b[0;32m    398\u001b[0m                                   \u001b[38;5;241m*\u001b[39m\u001b[38;5;241m*\u001b[39mkeywords\n\u001b[0;32m    399\u001b[0m                                   )\n\u001b[0;32m    401\u001b[0m     \u001b[38;5;28;01mif\u001b[39;00m helperSubformats[\u001b[38;5;241m0\u001b[39m] \u001b[38;5;241m==\u001b[39m \u001b[38;5;124m'\u001b[39m\u001b[38;5;124mpng\u001b[39m\u001b[38;5;124m'\u001b[39m:\n\u001b[0;32m    402\u001b[0m         \u001b[38;5;28;01mif\u001b[39;00m \u001b[38;5;129;01mnot\u001b[39;00m \u001b[38;5;28mstr\u001b[39m(environLocal[\u001b[38;5;124m'\u001b[39m\u001b[38;5;124mmusescoreDirectPNGPath\u001b[39m\u001b[38;5;124m'\u001b[39m])\u001b[38;5;241m.\u001b[39mstartswith(\u001b[38;5;124m'\u001b[39m\u001b[38;5;124m/skip\u001b[39m\u001b[38;5;124m'\u001b[39m):\n",
      "File \u001b[1;32m~\\miniconda3\\lib\\site-packages\\music21\\converter\\subConverters.py:1140\u001b[0m, in \u001b[0;36mConverterMusicXML.write\u001b[1;34m(self, obj, fmt, fp, subformats, makeNotation, compress, **keywords)\u001b[0m\n\u001b[0;32m   1135\u001b[0m     defaults\u001b[38;5;241m.\u001b[39mauthor \u001b[38;5;241m=\u001b[39m savedDefaultAuthor\n\u001b[0;32m   1137\u001b[0m \u001b[38;5;28;01mif\u001b[39;00m (subformats \u001b[38;5;129;01mis\u001b[39;00m \u001b[38;5;129;01mnot\u001b[39;00m \u001b[38;5;28;01mNone\u001b[39;00m\n\u001b[0;32m   1138\u001b[0m         \u001b[38;5;129;01mand\u001b[39;00m (\u001b[38;5;124m'\u001b[39m\u001b[38;5;124mpng\u001b[39m\u001b[38;5;124m'\u001b[39m \u001b[38;5;129;01min\u001b[39;00m subformats \u001b[38;5;129;01mor\u001b[39;00m \u001b[38;5;124m'\u001b[39m\u001b[38;5;124mpdf\u001b[39m\u001b[38;5;124m'\u001b[39m \u001b[38;5;129;01min\u001b[39;00m subformats)\n\u001b[0;32m   1139\u001b[0m         \u001b[38;5;129;01mand\u001b[39;00m \u001b[38;5;129;01mnot\u001b[39;00m \u001b[38;5;28mstr\u001b[39m(environLocal[\u001b[38;5;124m'\u001b[39m\u001b[38;5;124mmusescoreDirectPNGPath\u001b[39m\u001b[38;5;124m'\u001b[39m])\u001b[38;5;241m.\u001b[39mstartswith(\u001b[38;5;124m'\u001b[39m\u001b[38;5;124m/skip\u001b[39m\u001b[38;5;124m'\u001b[39m)):\n\u001b[1;32m-> 1140\u001b[0m     outFp \u001b[38;5;241m=\u001b[39m \u001b[38;5;28mself\u001b[39m\u001b[38;5;241m.\u001b[39mrunThroughMusescore(xmlFp, subformats, \u001b[38;5;241m*\u001b[39m\u001b[38;5;241m*\u001b[39mkeywords)\n\u001b[0;32m   1141\u001b[0m \u001b[38;5;28;01melif\u001b[39;00m compress:\n\u001b[0;32m   1142\u001b[0m     archiveTools\u001b[38;5;241m.\u001b[39mcompressXML(xmlFp,\n\u001b[0;32m   1143\u001b[0m                              deleteOriginal\u001b[38;5;241m=\u001b[39m\u001b[38;5;28;01mTrue\u001b[39;00m,\n\u001b[0;32m   1144\u001b[0m                              silent\u001b[38;5;241m=\u001b[39m\u001b[38;5;28;01mTrue\u001b[39;00m,\n\u001b[0;32m   1145\u001b[0m                              strictMxlCheck\u001b[38;5;241m=\u001b[39m\u001b[38;5;28;01mFalse\u001b[39;00m)\n",
      "File \u001b[1;32m~\\miniconda3\\lib\\site-packages\\music21\\converter\\subConverters.py:1016\u001b[0m, in \u001b[0;36mConverterMusicXML.runThroughMusescore\u001b[1;34m(self, fp, subformats, dpi, **keywords)\u001b[0m\n\u001b[0;32m   1013\u001b[0m     \u001b[38;5;28;01mexcept\u001b[39;00m \u001b[38;5;167;01mUnicodeDecodeError\u001b[39;00m:\n\u001b[0;32m   1014\u001b[0m         \u001b[38;5;66;03m# not really a str, but best we can do.\u001b[39;00m\n\u001b[0;32m   1015\u001b[0m         stderr_str \u001b[38;5;241m=\u001b[39m stderr_bytes\u001b[38;5;241m.\u001b[39mdecode(\u001b[38;5;124m'\u001b[39m\u001b[38;5;124mascii\u001b[39m\u001b[38;5;124m'\u001b[39m, errors\u001b[38;5;241m=\u001b[39m\u001b[38;5;124m'\u001b[39m\u001b[38;5;124mignore\u001b[39m\u001b[38;5;124m'\u001b[39m)\n\u001b[1;32m-> 1016\u001b[0m     \u001b[38;5;28;01mraise\u001b[39;00m SubConverterFileIOException(stderr_str)\n\u001b[0;32m   1018\u001b[0m \u001b[38;5;28;01mif\u001b[39;00m common\u001b[38;5;241m.\u001b[39mrunningUnderIPython() \u001b[38;5;129;01mand\u001b[39;00m common\u001b[38;5;241m.\u001b[39mgetPlatform() \u001b[38;5;241m==\u001b[39m \u001b[38;5;124m'\u001b[39m\u001b[38;5;124mnix\u001b[39m\u001b[38;5;124m'\u001b[39m:\n\u001b[0;32m   1019\u001b[0m     \u001b[38;5;66;03m# Leave environment in original state\u001b[39;00m\n\u001b[0;32m   1020\u001b[0m     \u001b[38;5;28;01mif\u001b[39;00m prior_qt \u001b[38;5;129;01mis\u001b[39;00m \u001b[38;5;28;01mNone\u001b[39;00m:\n",
      "\u001b[1;31mSubConverterFileIOException\u001b[0m: [23636:344:20231128,012715.614:ERROR process_info.cc:375] NtQuerySystemInformation SystemExtendedHandleInformation: The specified information record length does not match the length required for the specified information class. (0xc0000004)\r\n[23636:22444:20231128,012715.632:ERROR filesystem_win.cc:129] GetFileAttributes C:/Users/shawn/AppData/Local/MuseScore/MuseScore4/logs/dumps\\attachments\\6cb9e2eb-b17a-49fd-b0d1-19ca2d4b5ba2: The system cannot find the file specified. (2)\r\n"
     ]
    }
   ],
   "source": [
    "b.show()"
   ]
  },
  {
   "cell_type": "code",
   "execution_count": null,
   "id": "93ecdaf9",
   "metadata": {},
   "outputs": [],
   "source": []
  }
 ],
 "metadata": {
  "kernelspec": {
   "display_name": "Python 3 (ipykernel)",
   "language": "python",
   "name": "python3"
  },
  "language_info": {
   "codemirror_mode": {
    "name": "ipython",
    "version": 3
   },
   "file_extension": ".py",
   "mimetype": "text/x-python",
   "name": "python",
   "nbconvert_exporter": "python",
   "pygments_lexer": "ipython3",
   "version": "3.9.13"
  }
 },
 "nbformat": 4,
 "nbformat_minor": 5
}
